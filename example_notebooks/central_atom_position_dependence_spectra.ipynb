{
 "cells": [
  {
   "cell_type": "code",
   "execution_count": 3,
   "metadata": {},
   "outputs": [],
   "source": [
    "import time\n",
    "from AaltoAtoms import CircCorral, get_latman_dest, get_atom_that_moved_the_most\n",
    "from AMRL import Createc_Controller\n",
    "import numpy as np"
   ]
  },
  {
   "cell_type": "code",
   "execution_count": 2,
   "metadata": {},
   "outputs": [
    {
     "ename": "NameError",
     "evalue": "name 'Createc_Controller' is not defined",
     "output_type": "error",
     "traceback": [
      "\u001b[1;31m---------------------------------------------------------------------------\u001b[0m",
      "\u001b[1;31mNameError\u001b[0m                                 Traceback (most recent call last)",
      "\u001b[1;32m<ipython-input-2-fa9d861ec4b8>\u001b[0m in \u001b[0;36m<module>\u001b[1;34m\u001b[0m\n\u001b[1;32m----> 1\u001b[1;33m \u001b[0mCC\u001b[0m \u001b[1;33m=\u001b[0m \u001b[0mCreatec_Controller\u001b[0m\u001b[1;33m(\u001b[0m\u001b[1;33m)\u001b[0m\u001b[1;33m\u001b[0m\u001b[1;33m\u001b[0m\u001b[0m\n\u001b[0m\u001b[0;32m      2\u001b[0m \u001b[1;33m\u001b[0m\u001b[0m\n\u001b[0;32m      3\u001b[0m \u001b[1;31m# get atoms at beginning\u001b[0m\u001b[1;33m\u001b[0m\u001b[1;33m\u001b[0m\u001b[1;33m\u001b[0m\u001b[0m\n\u001b[0;32m      4\u001b[0m \u001b[0mCim\u001b[0m \u001b[1;33m=\u001b[0m \u001b[0mnp\u001b[0m\u001b[1;33m.\u001b[0m\u001b[0marray\u001b[0m\u001b[1;33m(\u001b[0m\u001b[0mCC\u001b[0m\u001b[1;33m.\u001b[0m\u001b[0mstm\u001b[0m\u001b[1;33m.\u001b[0m\u001b[0mscandata\u001b[0m\u001b[1;33m(\u001b[0m\u001b[1;36m1\u001b[0m\u001b[1;33m,\u001b[0m\u001b[1;36m4\u001b[0m\u001b[1;33m)\u001b[0m\u001b[1;33m)\u001b[0m\u001b[1;33m\u001b[0m\u001b[1;33m\u001b[0m\u001b[0m\n\u001b[0;32m      5\u001b[0m \u001b[0mzconst\u001b[0m \u001b[1;33m=\u001b[0m \u001b[0mfloat\u001b[0m\u001b[1;33m(\u001b[0m\u001b[0mCC\u001b[0m\u001b[1;33m.\u001b[0m\u001b[0mstm\u001b[0m\u001b[1;33m.\u001b[0m\u001b[0mgetparam\u001b[0m\u001b[1;33m(\u001b[0m\u001b[1;34m'ZPiezoConst'\u001b[0m\u001b[1;33m)\u001b[0m\u001b[1;33m)\u001b[0m\u001b[1;33m\u001b[0m\u001b[1;33m\u001b[0m\u001b[0m\n",
      "\u001b[1;31mNameError\u001b[0m: name 'Createc_Controller' is not defined"
     ]
    }
   ],
   "source": [
    "CC = Createc_Controller()\n",
    "\n",
    "# get atom positions at beginning\n",
    "Cim = np.array(CC.stm.scandata(1,4))\n",
    "zconst = float(CC.stm.getparam('ZPiezoConst'))\n",
    "nmx = nmy = CC.get_len_nm()\n",
    "C = CircCorral(Cim, zconst, nmx, nmy)\n",
    "C.subtract_plane()\n",
    "C.get_region_centroids(percentile=98, edge_cutoff=0.1, show=False)\n",
    "central_atom_loc = C.get_central_atom(C.centroids)\n",
    "\n",
    "old_centroids = C.centroids\n",
    "original_circle = C.r, C.c\n",
    "\n",
    "# manipulation destinations are always safe_dist_nm from the edge of the circle\n",
    "safe_dist_nm = 1.2\n",
    "\n",
    "# parameters for lateral manipulation\n",
    "latman_millivolt = 3\n",
    "latman_picoamp = 80000\n",
    "\n",
    "# ramp to this bias before scanning\n",
    "scan_bias_mv = 40\n",
    "\n",
    "# ramp to this bias before taking spectra\n",
    "spec_bias_mv = 40\n",
    "\n",
    "\n",
    "offset_nm = CC.get_xy_nm()\n",
    "len_nm = CC.get_len_nm()\n",
    "\n",
    "# take the first spectrum at the central atom location\n",
    "CC.ramp_bias_mV(spec_bias_mv)\n",
    "CC.stm.btn_vertspec(*central_atom_loc)\n",
    "CC.stm.vertsave()\n",
    "\n",
    "while True:\n",
    "    # get a destination within the circle to move the atom \n",
    "    dest = get_latman_dest(original_circle, C, safe_dist_nm)\n",
    "    \n",
    "    # convert to nm \n",
    "    init = pixel_to_nm(central_atom_loc, Cim, offset_nm, [nmx, nmy])\n",
    "    final = pixel_to_nm(dest, Cim, offset_nm, [nmx, nmy])\n",
    "\n",
    "    # do the manipulation\n",
    "    latmandata = CC.lat_manipulation(*init, *final, latman_millivolt, latman_picoamp, offset_nm, nmx)\n",
    "    \n",
    "    # scan corral and save scan\n",
    "    CC.ramp_bias_mV(scan_bias_mv)\n",
    "    CC.stm.scanstart()\n",
    "    CC.stm.scanwaitfinished()\n",
    "    time.sleep(1)\n",
    "    CC.stm.quicksave()\n",
    "    \n",
    "    # get position of atom that moved the most since last scan\n",
    "    central_atom_loc_old, original_circle_old = central_atom_loc, original_circle\n",
    "    central_atom_loc, original_circle = get_atom_that_moved_the_most(old_centroids, CC)\n",
    "    \n",
    "    # if the atom hasn't moved, try again (i.e move to the top of the while loop)\n",
    "    if central_atom_loc is False:\n",
    "        central_atom_loc, original_circle = central_atom_loc_old, original_circle_old\n",
    "        continue \n",
    "    \n",
    "    # take spectrum on atom and save\n",
    "    CC.ramp_bias_mV(spec_bias_mv)\n",
    "    CC.stm.btn_vertspec(*central_atom_loc)\n",
    "    CC.stm.vertsave()\n",
    " \n",
    "    # set current atom locations as \"old\" atom locations for next loop\n",
    "    Cim = np.array(CC.stm.scandata(1,4))\n",
    "    C = CircCorral(Cim, zconst, nmx, nmy)\n",
    "    C.subtract_plane()\n",
    "    C.get_region_centroids(percentile=98, edge_cutoff=0.1, show=False)\n",
    "    old_centroids = C.centroids"
   ]
  },
  {
   "cell_type": "code",
   "execution_count": null,
   "metadata": {},
   "outputs": [],
   "source": []
  }
 ],
 "metadata": {
  "kernelspec": {
   "display_name": "Python 3",
   "language": "python",
   "name": "python3"
  },
  "language_info": {
   "codemirror_mode": {
    "name": "ipython",
    "version": 3
   },
   "file_extension": ".py",
   "mimetype": "text/x-python",
   "name": "python",
   "nbconvert_exporter": "python",
   "pygments_lexer": "ipython3",
   "version": "3.8.5"
  }
 },
 "nbformat": 4,
 "nbformat_minor": 4
}
